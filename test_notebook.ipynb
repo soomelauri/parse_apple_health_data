{
 "cells": [
  {
   "cell_type": "code",
   "execution_count": 1,
   "id": "98090f90-eebf-43e5-bd15-a5ec888ef686",
   "metadata": {},
   "outputs": [],
   "source": [
    "import matplotlib.pyplot as plt\n",
    "from apple_health_parser import load_health_data\n",
    "\n",
    "# Create parser instance\n",
    "parser = load_health_data('data/export.xml')\n",
    "\n",
    "# Get data as pandas DataFrames\n",
    "dataframes = parser.to_dataframes()\n"
   ]
  },
  {
   "cell_type": "code",
   "execution_count": 2,
   "id": "d8f3603f-9f9a-4805-ab4a-755f54e84939",
   "metadata": {},
   "outputs": [],
   "source": [
    "# Physical Measurements:\n",
    "height_df = dataframes['HKQuantityTypeIdentifierHeight']\n",
    "body_mass_df = dataframes['HKQuantityTypeIdentifierBodyMass']\n",
    "\n",
    "# Activity Tracking:\n",
    "steps_df = dataframes['HKQuantityTypeIdentifierStepCount']\n",
    "distance_walking_running_df = dataframes['HKQuantityTypeIdentifierDistanceWalkingRunning']\n",
    "flights_climbed_df = dataframes['HKQuantityTypeIdentifierFlightsClimbed']\n",
    "\n",
    "# Energy Expenditure:\n",
    "basal_energy_burned_df = dataframes['HKQuantityTypeIdentifierBasalEnergyBurned']\n",
    "active_energy_burned_df = dataframes['HKQuantityTypeIdentifierActiveEnergyBurned']\n",
    "\n",
    "# Audio Exposure:\n",
    "headphone_audio_exposure_df = dataframes['HKQuantityTypeIdentifierHeadphoneAudioExposure']\n",
    "audio_exposure_event_df = dataframes['HKCategoryTypeIdentifierHeadphoneAudioExposureEvent']\n",
    "\n",
    "# Walking Metrics:\n",
    "walking_double_support_percentage_df = dataframes['HKQuantityTypeIdentifierWalkingDoubleSupportPercentage']\n",
    "walking_speed_df = dataframes['HKQuantityTypeIdentifierWalkingSpeed']\n",
    "walking_step_length_df = dataframes['HKQuantityTypeIdentifierWalkingStepLength']\n",
    "walking_asymmetry_percentage_df = dataframes['HKQuantityTypeIdentifierWalkingAsymmetryPercentage']\n",
    "walking_steadiness_df = dataframes['HKQuantityTypeIdentifierAppleWalkingSteadiness']\n",
    "\n",
    "# Sleep Metrics:\n",
    "sleep_analysis_df = dataframes['HKCategoryTypeIdentifierSleepAnalysis']\n",
    "sleep_duration_goal_df = dataframes['HKDataTypeSleepDurationGoal']\n"
   ]
  }
 ],
 "metadata": {
  "kernelspec": {
   "display_name": "Python 3 (ipykernel)",
   "language": "python",
   "name": "python3"
  },
  "language_info": {
   "codemirror_mode": {
    "name": "ipython",
    "version": 3
   },
   "file_extension": ".py",
   "mimetype": "text/x-python",
   "name": "python",
   "nbconvert_exporter": "python",
   "pygments_lexer": "ipython3",
   "version": "3.13.1"
  }
 },
 "nbformat": 4,
 "nbformat_minor": 5
}
